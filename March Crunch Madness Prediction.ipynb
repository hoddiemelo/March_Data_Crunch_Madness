{
 "cells": [
  {
   "cell_type": "code",
   "execution_count": 1,
   "metadata": {},
   "outputs": [],
   "source": [
    "import pandas as pd"
   ]
  },
  {
   "cell_type": "code",
   "execution_count": 2,
   "metadata": {},
   "outputs": [],
   "source": [
    "rawData = pd.read_csv('data.csv')"
   ]
  },
  {
   "cell_type": "code",
   "execution_count": 3,
   "metadata": {
    "scrolled": true
   },
   "outputs": [
    {
     "data": {
      "text/plain": [
       "Index(['result', 'starplayer_difference', 'rpi_rating_difference', 'Log5',\n",
       "       'adjoe_difference', 'adjde_difference', 'EFG-OEEG',\n",
       "       'TPP-DTPP_difference', 'SRS_difference', 'SOS_difference',\n",
       "       ...\n",
       "       'team2_pt_school_ff', 'team2_pt_school_ncaa', 'team2_pt_school_s16',\n",
       "       'team2_pt_team_season_losses', 'team2_pt_team_season_wins',\n",
       "       'team2_rpi_rating', 'team2_score', 'team2_seed.1', 'team2_stlrate',\n",
       "       'team2_tempo'],\n",
       "      dtype='object', length=133)"
      ]
     },
     "execution_count": 3,
     "metadata": {},
     "output_type": "execute_result"
    }
   ],
   "source": [
    "rawData.columns"
   ]
  },
  {
   "cell_type": "code",
   "execution_count": 4,
   "metadata": {},
   "outputs": [],
   "source": [
    "result = rawData['result']\n",
    "del rawData['result']"
   ]
  },
  {
   "cell_type": "markdown",
   "metadata": {},
   "source": [
    "# L1-based feature selection"
   ]
  },
  {
   "cell_type": "code",
   "execution_count": 5,
   "metadata": {},
   "outputs": [],
   "source": [
    "from sklearn.feature_selection import SelectFromModel\n",
    "from sklearn.svm import LinearSVC"
   ]
  },
  {
   "cell_type": "code",
   "execution_count": 6,
   "metadata": {},
   "outputs": [],
   "source": [
    "lsvc = LinearSVC(C=0.01, penalty=\"l1\", dual=False).fit(rawData, result)"
   ]
  },
  {
   "cell_type": "code",
   "execution_count": 7,
   "metadata": {},
   "outputs": [
    {
     "data": {
      "text/plain": [
       "(1041, 40)"
      ]
     },
     "execution_count": 7,
     "metadata": {},
     "output_type": "execute_result"
    }
   ],
   "source": [
    "model = SelectFromModel(lsvc, prefit=True)\n",
    "data_lsvc = model.transform(rawData)\n",
    "data_lsvc.shape"
   ]
  },
  {
   "cell_type": "code",
   "execution_count": 8,
   "metadata": {},
   "outputs": [
    {
     "data": {
      "text/plain": [
       "array([[ 20.88      ,  13.        ,  35.44409635, ...,  78.        ,\n",
       "         15.        ,  71.2357    ],\n",
       "       [ -8.54      , -10.47      ,  48.11783155, ...,  81.        ,\n",
       "         16.        ,  68.8425    ],\n",
       "       [ 11.38      ,  12.54      , 165.3757775 , ...,  81.        ,\n",
       "         14.        ,  63.2345    ],\n",
       "       ...,\n",
       "       [ 19.81      ,  11.83      , 148.5604604 , ...,  80.        ,\n",
       "         13.        ,  70.4393    ],\n",
       "       [  6.52      ,  -0.85      ,  69.15868716, ...,  71.        ,\n",
       "          5.        ,  67.853     ],\n",
       "       [  5.42      ,  -0.54      , -23.21802841, ...,  74.        ,\n",
       "          9.        ,  69.9367    ]])"
      ]
     },
     "execution_count": 8,
     "metadata": {},
     "output_type": "execute_result"
    }
   ],
   "source": [
    "data_lsvc"
   ]
  },
  {
   "cell_type": "code",
   "execution_count": 9,
   "metadata": {},
   "outputs": [
    {
     "data": {
      "text/html": [
       "<div>\n",
       "<style scoped>\n",
       "    .dataframe tbody tr th:only-of-type {\n",
       "        vertical-align: middle;\n",
       "    }\n",
       "\n",
       "    .dataframe tbody tr th {\n",
       "        vertical-align: top;\n",
       "    }\n",
       "\n",
       "    .dataframe thead th {\n",
       "        text-align: right;\n",
       "    }\n",
       "</style>\n",
       "<table border=\"1\" class=\"dataframe\">\n",
       "  <thead>\n",
       "    <tr style=\"text-align: right;\">\n",
       "      <th></th>\n",
       "      <th>0</th>\n",
       "      <th>1</th>\n",
       "      <th>2</th>\n",
       "      <th>3</th>\n",
       "      <th>4</th>\n",
       "      <th>5</th>\n",
       "      <th>6</th>\n",
       "      <th>7</th>\n",
       "      <th>8</th>\n",
       "      <th>9</th>\n",
       "      <th>...</th>\n",
       "      <th>30</th>\n",
       "      <th>31</th>\n",
       "      <th>32</th>\n",
       "      <th>33</th>\n",
       "      <th>34</th>\n",
       "      <th>35</th>\n",
       "      <th>36</th>\n",
       "      <th>37</th>\n",
       "      <th>38</th>\n",
       "      <th>39</th>\n",
       "    </tr>\n",
       "  </thead>\n",
       "  <tbody>\n",
       "    <tr>\n",
       "      <th>0</th>\n",
       "      <td>20.88</td>\n",
       "      <td>13.00</td>\n",
       "      <td>35.444096</td>\n",
       "      <td>0.0</td>\n",
       "      <td>75.9</td>\n",
       "      <td>66.7</td>\n",
       "      <td>16.93</td>\n",
       "      <td>19.0</td>\n",
       "      <td>72.1</td>\n",
       "      <td>16.0</td>\n",
       "      <td>...</td>\n",
       "      <td>71.2446</td>\n",
       "      <td>98.4183</td>\n",
       "      <td>26.9051</td>\n",
       "      <td>30.8891</td>\n",
       "      <td>63.0</td>\n",
       "      <td>63.0</td>\n",
       "      <td>19.0</td>\n",
       "      <td>78.0</td>\n",
       "      <td>15.0</td>\n",
       "      <td>71.2357</td>\n",
       "    </tr>\n",
       "    <tr>\n",
       "      <th>1</th>\n",
       "      <td>-8.54</td>\n",
       "      <td>-10.47</td>\n",
       "      <td>48.117832</td>\n",
       "      <td>5.0</td>\n",
       "      <td>79.8</td>\n",
       "      <td>76.6</td>\n",
       "      <td>-11.28</td>\n",
       "      <td>17.0</td>\n",
       "      <td>68.9</td>\n",
       "      <td>0.0</td>\n",
       "      <td>...</td>\n",
       "      <td>67.7359</td>\n",
       "      <td>96.3688</td>\n",
       "      <td>35.3229</td>\n",
       "      <td>36.6570</td>\n",
       "      <td>18.0</td>\n",
       "      <td>18.0</td>\n",
       "      <td>16.0</td>\n",
       "      <td>81.0</td>\n",
       "      <td>16.0</td>\n",
       "      <td>68.8425</td>\n",
       "    </tr>\n",
       "    <tr>\n",
       "      <th>2</th>\n",
       "      <td>11.38</td>\n",
       "      <td>12.54</td>\n",
       "      <td>165.375777</td>\n",
       "      <td>113.0</td>\n",
       "      <td>82.1</td>\n",
       "      <td>77.7</td>\n",
       "      <td>16.93</td>\n",
       "      <td>20.0</td>\n",
       "      <td>60.9</td>\n",
       "      <td>24.5</td>\n",
       "      <td>...</td>\n",
       "      <td>64.7948</td>\n",
       "      <td>96.0965</td>\n",
       "      <td>32.3549</td>\n",
       "      <td>39.4402</td>\n",
       "      <td>52.0</td>\n",
       "      <td>52.0</td>\n",
       "      <td>20.0</td>\n",
       "      <td>81.0</td>\n",
       "      <td>14.0</td>\n",
       "      <td>63.2345</td>\n",
       "    </tr>\n",
       "    <tr>\n",
       "      <th>3</th>\n",
       "      <td>-2.09</td>\n",
       "      <td>2.51</td>\n",
       "      <td>-17.569324</td>\n",
       "      <td>1.0</td>\n",
       "      <td>73.5</td>\n",
       "      <td>68.6</td>\n",
       "      <td>13.61</td>\n",
       "      <td>22.0</td>\n",
       "      <td>68.4</td>\n",
       "      <td>0.0</td>\n",
       "      <td>...</td>\n",
       "      <td>70.1299</td>\n",
       "      <td>95.8235</td>\n",
       "      <td>31.4024</td>\n",
       "      <td>30.6634</td>\n",
       "      <td>72.0</td>\n",
       "      <td>20.0</td>\n",
       "      <td>21.0</td>\n",
       "      <td>82.0</td>\n",
       "      <td>8.0</td>\n",
       "      <td>70.3693</td>\n",
       "    </tr>\n",
       "    <tr>\n",
       "      <th>4</th>\n",
       "      <td>29.06</td>\n",
       "      <td>14.39</td>\n",
       "      <td>85.009157</td>\n",
       "      <td>41.0</td>\n",
       "      <td>78.2</td>\n",
       "      <td>60.4</td>\n",
       "      <td>12.79</td>\n",
       "      <td>22.0</td>\n",
       "      <td>64.0</td>\n",
       "      <td>27.0</td>\n",
       "      <td>...</td>\n",
       "      <td>65.8612</td>\n",
       "      <td>95.6198</td>\n",
       "      <td>32.0883</td>\n",
       "      <td>38.8068</td>\n",
       "      <td>106.0</td>\n",
       "      <td>106.0</td>\n",
       "      <td>22.0</td>\n",
       "      <td>52.0</td>\n",
       "      <td>16.0</td>\n",
       "      <td>65.0025</td>\n",
       "    </tr>\n",
       "  </tbody>\n",
       "</table>\n",
       "<p>5 rows × 40 columns</p>\n",
       "</div>"
      ],
      "text/plain": [
       "      0      1           2      3     4     5      6     7     8     9   \\\n",
       "0  20.88  13.00   35.444096    0.0  75.9  66.7  16.93  19.0  72.1  16.0   \n",
       "1  -8.54 -10.47   48.117832    5.0  79.8  76.6 -11.28  17.0  68.9   0.0   \n",
       "2  11.38  12.54  165.375777  113.0  82.1  77.7  16.93  20.0  60.9  24.5   \n",
       "3  -2.09   2.51  -17.569324    1.0  73.5  68.6  13.61  22.0  68.4   0.0   \n",
       "4  29.06  14.39   85.009157   41.0  78.2  60.4  12.79  22.0  64.0  27.0   \n",
       "\n",
       "    ...          30       31       32       33     34     35    36    37  \\\n",
       "0   ...     71.2446  98.4183  26.9051  30.8891   63.0   63.0  19.0  78.0   \n",
       "1   ...     67.7359  96.3688  35.3229  36.6570   18.0   18.0  16.0  81.0   \n",
       "2   ...     64.7948  96.0965  32.3549  39.4402   52.0   52.0  20.0  81.0   \n",
       "3   ...     70.1299  95.8235  31.4024  30.6634   72.0   20.0  21.0  82.0   \n",
       "4   ...     65.8612  95.6198  32.0883  38.8068  106.0  106.0  22.0  52.0   \n",
       "\n",
       "     38       39  \n",
       "0  15.0  71.2357  \n",
       "1  16.0  68.8425  \n",
       "2  14.0  63.2345  \n",
       "3   8.0  70.3693  \n",
       "4  16.0  65.0025  \n",
       "\n",
       "[5 rows x 40 columns]"
      ]
     },
     "execution_count": 9,
     "metadata": {},
     "output_type": "execute_result"
    }
   ],
   "source": [
    "df_lsvc= pd.DataFrame(data_lsvc)\n",
    "df_lsvc.head()"
   ]
  },
  {
   "cell_type": "code",
   "execution_count": 10,
   "metadata": {},
   "outputs": [],
   "source": [
    "df_lsvc.to_csv(\"df_lsvc.csv\",index=True,sep=',')"
   ]
  },
  {
   "cell_type": "markdown",
   "metadata": {},
   "source": [
    "# Tree-based feature selection"
   ]
  },
  {
   "cell_type": "code",
   "execution_count": 11,
   "metadata": {},
   "outputs": [],
   "source": [
    "from sklearn.ensemble import ExtraTreesClassifier\n",
    "etc = ExtraTreesClassifier()"
   ]
  },
  {
   "cell_type": "code",
   "execution_count": 12,
   "metadata": {},
   "outputs": [],
   "source": [
    "etc = etc.fit(rawData, result)"
   ]
  },
  {
   "cell_type": "code",
   "execution_count": 13,
   "metadata": {},
   "outputs": [
    {
     "data": {
      "text/plain": [
       "array([0.00865498, 0.01125455, 0.02594593, 0.00671169, 0.01129965,\n",
       "       0.0054165 , 0.00358232, 0.02452163, 0.01244866, 0.010818  ,\n",
       "       0.03084114, 0.02328479, 0.00563476, 0.00464211, 0.00429224,\n",
       "       0.00936722, 0.01248293, 0.00568125, 0.004373  , 0.02406558,\n",
       "       0.0139629 , 0.00359356, 0.00524451, 0.00263152, 0.01103139,\n",
       "       0.01011391, 0.00390745, 0.00588289, 0.00807712, 0.00572651,\n",
       "       0.00116311, 0.00531206, 0.00733386, 0.00807888, 0.00285975,\n",
       "       0.00407894, 0.01634691, 0.02918442, 0.00551673, 0.01628291,\n",
       "       0.00772514, 0.02266358, 0.00473774, 0.00370291, 0.00585665,\n",
       "       0.01007843, 0.00729961, 0.00374305, 0.00653496, 0.00601036,\n",
       "       0.00517228, 0.00441913, 0.00437105, 0.00559737, 0.00534825,\n",
       "       0.00499572, 0.00503495, 0.00537438, 0.00687224, 0.00313401,\n",
       "       0.00732966, 0.00502777, 0.00467982, 0.0043294 , 0.00655739,\n",
       "       0.00475319, 0.00546564, 0.00583386, 0.00508641, 0.00568084,\n",
       "       0.00355055, 0.00641974, 0.00371682, 0.00408449, 0.00632514,\n",
       "       0.00346016, 0.00395128, 0.00522698, 0.00660743, 0.00504726,\n",
       "       0.00940124, 0.01686795, 0.00682318, 0.00325614, 0.00520298,\n",
       "       0.00609849, 0.00504399, 0.0041613 , 0.00907515, 0.01489504,\n",
       "       0.00503217, 0.0045532 , 0.00575607, 0.02749728, 0.0059254 ,\n",
       "       0.00517716, 0.00293645, 0.00411425, 0.00492522, 0.00553398,\n",
       "       0.00528331, 0.00358499, 0.00645594, 0.0062343 , 0.00490629,\n",
       "       0.00619438, 0.00560607, 0.00602061, 0.00705875, 0.00459914,\n",
       "       0.00463122, 0.00587876, 0.00459377, 0.00419899, 0.00518025,\n",
       "       0.00529615, 0.00398618, 0.00507693, 0.0068382 , 0.00361313,\n",
       "       0.00387407, 0.00749502, 0.00435165, 0.00377625, 0.00426284,\n",
       "       0.00322431, 0.00606464, 0.00816547, 0.03286408, 0.01565701,\n",
       "       0.00490701, 0.0043897 ])"
      ]
     },
     "execution_count": 13,
     "metadata": {},
     "output_type": "execute_result"
    }
   ],
   "source": [
    "etc.feature_importances_"
   ]
  },
  {
   "cell_type": "code",
   "execution_count": 14,
   "metadata": {},
   "outputs": [],
   "source": [
    "model = SelectFromModel(etc, prefit=True)"
   ]
  },
  {
   "cell_type": "code",
   "execution_count": 15,
   "metadata": {},
   "outputs": [],
   "source": [
    "data_etc = model.transform(rawData)"
   ]
  },
  {
   "cell_type": "code",
   "execution_count": 16,
   "metadata": {},
   "outputs": [
    {
     "data": {
      "text/plain": [
       "(1041, 31)"
      ]
     },
     "execution_count": 16,
     "metadata": {},
     "output_type": "execute_result"
    }
   ],
   "source": [
    "data_etc.shape "
   ]
  },
  {
   "cell_type": "code",
   "execution_count": 17,
   "metadata": {
    "scrolled": true
   },
   "outputs": [
    {
     "data": {
      "text/html": [
       "<div>\n",
       "<style scoped>\n",
       "    .dataframe tbody tr th:only-of-type {\n",
       "        vertical-align: middle;\n",
       "    }\n",
       "\n",
       "    .dataframe tbody tr th {\n",
       "        vertical-align: top;\n",
       "    }\n",
       "\n",
       "    .dataframe thead th {\n",
       "        text-align: right;\n",
       "    }\n",
       "</style>\n",
       "<table border=\"1\" class=\"dataframe\">\n",
       "  <thead>\n",
       "    <tr style=\"text-align: right;\">\n",
       "      <th></th>\n",
       "      <th>0</th>\n",
       "      <th>1</th>\n",
       "      <th>2</th>\n",
       "      <th>3</th>\n",
       "      <th>4</th>\n",
       "      <th>5</th>\n",
       "      <th>6</th>\n",
       "      <th>7</th>\n",
       "      <th>8</th>\n",
       "      <th>9</th>\n",
       "      <th>...</th>\n",
       "      <th>30</th>\n",
       "      <th>31</th>\n",
       "      <th>32</th>\n",
       "      <th>33</th>\n",
       "      <th>34</th>\n",
       "      <th>35</th>\n",
       "      <th>36</th>\n",
       "      <th>37</th>\n",
       "      <th>38</th>\n",
       "      <th>39</th>\n",
       "    </tr>\n",
       "  </thead>\n",
       "  <tbody>\n",
       "    <tr>\n",
       "      <th>0</th>\n",
       "      <td>20.88</td>\n",
       "      <td>13.00</td>\n",
       "      <td>35.444096</td>\n",
       "      <td>0.0</td>\n",
       "      <td>75.9</td>\n",
       "      <td>66.7</td>\n",
       "      <td>16.93</td>\n",
       "      <td>19.0</td>\n",
       "      <td>72.1</td>\n",
       "      <td>16.0</td>\n",
       "      <td>...</td>\n",
       "      <td>71.2446</td>\n",
       "      <td>98.4183</td>\n",
       "      <td>26.9051</td>\n",
       "      <td>30.8891</td>\n",
       "      <td>63.0</td>\n",
       "      <td>63.0</td>\n",
       "      <td>19.0</td>\n",
       "      <td>78.0</td>\n",
       "      <td>15.0</td>\n",
       "      <td>71.2357</td>\n",
       "    </tr>\n",
       "    <tr>\n",
       "      <th>1</th>\n",
       "      <td>-8.54</td>\n",
       "      <td>-10.47</td>\n",
       "      <td>48.117832</td>\n",
       "      <td>5.0</td>\n",
       "      <td>79.8</td>\n",
       "      <td>76.6</td>\n",
       "      <td>-11.28</td>\n",
       "      <td>17.0</td>\n",
       "      <td>68.9</td>\n",
       "      <td>0.0</td>\n",
       "      <td>...</td>\n",
       "      <td>67.7359</td>\n",
       "      <td>96.3688</td>\n",
       "      <td>35.3229</td>\n",
       "      <td>36.6570</td>\n",
       "      <td>18.0</td>\n",
       "      <td>18.0</td>\n",
       "      <td>16.0</td>\n",
       "      <td>81.0</td>\n",
       "      <td>16.0</td>\n",
       "      <td>68.8425</td>\n",
       "    </tr>\n",
       "    <tr>\n",
       "      <th>2</th>\n",
       "      <td>11.38</td>\n",
       "      <td>12.54</td>\n",
       "      <td>165.375777</td>\n",
       "      <td>113.0</td>\n",
       "      <td>82.1</td>\n",
       "      <td>77.7</td>\n",
       "      <td>16.93</td>\n",
       "      <td>20.0</td>\n",
       "      <td>60.9</td>\n",
       "      <td>24.5</td>\n",
       "      <td>...</td>\n",
       "      <td>64.7948</td>\n",
       "      <td>96.0965</td>\n",
       "      <td>32.3549</td>\n",
       "      <td>39.4402</td>\n",
       "      <td>52.0</td>\n",
       "      <td>52.0</td>\n",
       "      <td>20.0</td>\n",
       "      <td>81.0</td>\n",
       "      <td>14.0</td>\n",
       "      <td>63.2345</td>\n",
       "    </tr>\n",
       "    <tr>\n",
       "      <th>3</th>\n",
       "      <td>-2.09</td>\n",
       "      <td>2.51</td>\n",
       "      <td>-17.569324</td>\n",
       "      <td>1.0</td>\n",
       "      <td>73.5</td>\n",
       "      <td>68.6</td>\n",
       "      <td>13.61</td>\n",
       "      <td>22.0</td>\n",
       "      <td>68.4</td>\n",
       "      <td>0.0</td>\n",
       "      <td>...</td>\n",
       "      <td>70.1299</td>\n",
       "      <td>95.8235</td>\n",
       "      <td>31.4024</td>\n",
       "      <td>30.6634</td>\n",
       "      <td>72.0</td>\n",
       "      <td>20.0</td>\n",
       "      <td>21.0</td>\n",
       "      <td>82.0</td>\n",
       "      <td>8.0</td>\n",
       "      <td>70.3693</td>\n",
       "    </tr>\n",
       "    <tr>\n",
       "      <th>4</th>\n",
       "      <td>29.06</td>\n",
       "      <td>14.39</td>\n",
       "      <td>85.009157</td>\n",
       "      <td>41.0</td>\n",
       "      <td>78.2</td>\n",
       "      <td>60.4</td>\n",
       "      <td>12.79</td>\n",
       "      <td>22.0</td>\n",
       "      <td>64.0</td>\n",
       "      <td>27.0</td>\n",
       "      <td>...</td>\n",
       "      <td>65.8612</td>\n",
       "      <td>95.6198</td>\n",
       "      <td>32.0883</td>\n",
       "      <td>38.8068</td>\n",
       "      <td>106.0</td>\n",
       "      <td>106.0</td>\n",
       "      <td>22.0</td>\n",
       "      <td>52.0</td>\n",
       "      <td>16.0</td>\n",
       "      <td>65.0025</td>\n",
       "    </tr>\n",
       "  </tbody>\n",
       "</table>\n",
       "<p>5 rows × 40 columns</p>\n",
       "</div>"
      ],
      "text/plain": [
       "      0      1           2      3     4     5      6     7     8     9   \\\n",
       "0  20.88  13.00   35.444096    0.0  75.9  66.7  16.93  19.0  72.1  16.0   \n",
       "1  -8.54 -10.47   48.117832    5.0  79.8  76.6 -11.28  17.0  68.9   0.0   \n",
       "2  11.38  12.54  165.375777  113.0  82.1  77.7  16.93  20.0  60.9  24.5   \n",
       "3  -2.09   2.51  -17.569324    1.0  73.5  68.6  13.61  22.0  68.4   0.0   \n",
       "4  29.06  14.39   85.009157   41.0  78.2  60.4  12.79  22.0  64.0  27.0   \n",
       "\n",
       "    ...          30       31       32       33     34     35    36    37  \\\n",
       "0   ...     71.2446  98.4183  26.9051  30.8891   63.0   63.0  19.0  78.0   \n",
       "1   ...     67.7359  96.3688  35.3229  36.6570   18.0   18.0  16.0  81.0   \n",
       "2   ...     64.7948  96.0965  32.3549  39.4402   52.0   52.0  20.0  81.0   \n",
       "3   ...     70.1299  95.8235  31.4024  30.6634   72.0   20.0  21.0  82.0   \n",
       "4   ...     65.8612  95.6198  32.0883  38.8068  106.0  106.0  22.0  52.0   \n",
       "\n",
       "     38       39  \n",
       "0  15.0  71.2357  \n",
       "1  16.0  68.8425  \n",
       "2  14.0  63.2345  \n",
       "3   8.0  70.3693  \n",
       "4  16.0  65.0025  \n",
       "\n",
       "[5 rows x 40 columns]"
      ]
     },
     "execution_count": 17,
     "metadata": {},
     "output_type": "execute_result"
    }
   ],
   "source": [
    "df_etc= pd.DataFrame(data_lsvc)\n",
    "df_etc.head()"
   ]
  },
  {
   "cell_type": "code",
   "execution_count": 18,
   "metadata": {},
   "outputs": [],
   "source": [
    "df_etc.to_csv(\"df_etc.csv\",index=True,sep=',')"
   ]
  },
  {
   "cell_type": "markdown",
   "metadata": {},
   "source": [
    "# Pearson correlation linear feature selection"
   ]
  },
  {
   "cell_type": "code",
   "execution_count": 19,
   "metadata": {},
   "outputs": [],
   "source": [
    "categories = []\n",
    "categories = rawData.columns"
   ]
  },
  {
   "cell_type": "code",
   "execution_count": 20,
   "metadata": {},
   "outputs": [],
   "source": [
    "data_pearson = rawData"
   ]
  },
  {
   "cell_type": "code",
   "execution_count": 21,
   "metadata": {},
   "outputs": [
    {
     "name": "stdout",
     "output_type": "stream",
     "text": [
      "The Pearson correlation between the result and starplayer_difference is : (0.21612466386621584, 1.811872841276515e-12)\n",
      "The Pearson correlation between the result and rpi_rating_difference is : (0.31722773737501553, 9.091587363204816e-26)\n",
      "The Pearson correlation between the result and Log5 is : (0.5210945734318579, 1.5682063939796895e-73)\n",
      "The Pearson correlation between the result and adjoe_difference is : (0.40941788157318604, 2.4299090910886955e-43)\n",
      "The Pearson correlation between the result and adjde_difference is : (0.381779225664374, 1.84622520761573e-37)\n",
      "The Pearson correlation between the result and EFG-OEEG is : (0.30891094647774975, 1.8730223718823385e-24)\n",
      "The Pearson correlation between the result and TPP-DTPP_difference is : (0.14083456121325466, 5.084917892709922e-06)\n",
      "The Pearson correlation between the result and SRS_difference is : (0.5433645548622701, 5.167265001526776e-81)\n",
      "The Pearson correlation between the result and SOS_difference is : (0.47207909858011254, 6.8049021463822485e-59)\n",
      "The Pearson correlation between the result and adjwin_difference is : (0.37676920603513064, 1.8768771373613345e-36)\n",
      "The Pearson correlation between the result and Hostwin_difference is : (0.4211522675141591, 5.201704056191465e-46)\n",
      "The Pearson correlation between the result and coach_influence_difference is : (0.3563112933686256, 1.609520926124002e-32)\n",
      "The Pearson correlation between the result and previous_performance_dif is : (0.24859918738767303, 3.972017595643799e-16)\n",
      "The Pearson correlation between the result and team1_Pts is : (0.182598311809309, 2.9504699333895334e-09)\n",
      "The Pearson correlation between the result and team1_Opp is : (-0.07959779388407161, 0.01019402679844443)\n",
      "The Pearson correlation between the result and team1_MOV is : (0.3096291672507311, 1.4478499725979805e-24)\n",
      "The Pearson correlation between the result and team1_SOS is : (0.34258268949410986, 4.892392748219355e-30)\n",
      "The Pearson correlation between the result and team1_OSRS is : (0.27323252006641574, 2.7956743091647103e-19)\n",
      "The Pearson correlation between the result and team1_DSRS is : (0.28597314100350996, 4.8229992772409976e-21)\n",
      "The Pearson correlation between the result and team1_SRS is : (0.4130472263141587, 3.7261294837610334e-44)\n",
      "The Pearson correlation between the result and team2_W is : (-0.39267112135703636, 1.0358687377043192e-39)\n",
      "The Pearson correlation between the result and team2_L is : (0.22847272529624207, 8.546761713863316e-14)\n",
      "The Pearson correlation between the result and team2_Pts is : (-0.14348802282777556, 3.3503319330003113e-06)\n",
      "The Pearson correlation between the result and team2_Opp is : (0.10704632632921646, 0.0005409884023935971)\n",
      "The Pearson correlation between the result and team2_MOV is : (-0.2799698654238189, 3.3541651222345447e-20)\n",
      "The Pearson correlation between the result and team2_SOS is : (-0.343114321248825, 3.9414635756511385e-30)\n",
      "The Pearson correlation between the result and team2__OSRS is : (-0.3035442678771765, 1.2540504460518776e-23)\n",
      "The Pearson correlation between the result and team2_DSRS is : (-0.24439226162624866, 1.2717455233229391e-15)\n",
      "The Pearson correlation between the result and team2_SRS is : (-0.3858383640498602, 2.737214068966247e-38)\n",
      "The Pearson correlation between the result and team1_starplayer_1 is : (0.17867901889818147, 6.442636298712611e-09)\n",
      "The Pearson correlation between the result and team2_starplayer_2 is : (-0.12094115455815281, 9.16151504242933e-05)\n",
      "The Pearson correlation between the result and starplayer_difference.1 is : (0.21612466386621584, 1.811872841276515e-12)\n",
      "The Pearson correlation between the result and Numot is : (-0.07280337699043332, 0.018810626168016823)\n",
      "The Pearson correlation between the result and team1_rankdifference is : (-0.0565786171083556, 0.06803858453473811)\n",
      "The Pearson correlation between the result and rank_change_difference is : (0.06094053791648698, 0.04933526580775424)\n",
      "The Pearson correlation between the result and dif_distance is : (0.15662109087155668, 3.8021022476646837e-07)\n",
      "The Pearson correlation between the result and exp_win2 is : (-0.30996054466964584, 1.285367050476518e-24)\n",
      "The Pearson correlation between the result and Log5.1 is : (0.5210945734318579, 1.5682063939796895e-73)\n",
      "The Pearson correlation between the result and team2_coachrank_difference is : (-0.11862534745483172, 0.0001248784097847118)\n",
      "The Pearson correlation between the result and team1_seed is : (-0.4094979737767851, 2.331994237741774e-43)\n",
      "The Pearson correlation between the result and team2_seed is : (0.38303308399538444, 1.0267445864426696e-37)\n",
      "The Pearson correlation between the result and seed_difference is : (0.494245558373656, 3.2151117698068806e-65)\n",
      "The Pearson correlation between the result and team1_adjde is : (-0.2644653149987846, 4.043557274778309e-18)\n",
      "The Pearson correlation between the result and team1_adjoe is : (0.34374449887306285, 3.0490092895623584e-30)\n",
      "The Pearson correlation between the result and team1_adjtempo is : (0.0038225079240288293, 0.9019616300933134)\n",
      "The Pearson correlation between the result and team1_ap_final is : (-0.2998859648823894, 4.481369138651876e-23)\n",
      "The Pearson correlation between the result and team1_ap_preseason is : (-0.3279311936546427, 1.605078385827067e-27)\n",
      "The Pearson correlation between the result and team1_arate is : (0.01327747342184086, 0.6687271025772885)\n",
      "The Pearson correlation between the result and team1_blockpct is : (0.13182333295161922, 1.9834949843638798e-05)\n",
      "The Pearson correlation between the result and team1_coaches_before_final is : (-0.25990447905469194, 1.5614476646628035e-17)\n",
      "The Pearson correlation between the result and team1_coaches_preseason is : (-0.32512593618842794, 4.6969898787619564e-27)\n",
      "The Pearson correlation between the result and team1_de is : (-0.1516059953095787, 8.9213909227965e-07)\n",
      "The Pearson correlation between the result and team1_f3grate is : (-0.0029747323754223056, 0.9236291844660317)\n",
      "The Pearson correlation between the result and team1_fg2pct is : (0.17660085379228976, 9.680100564442199e-09)\n",
      "The Pearson correlation between the result and team1_fg3pct is : (0.10759451647362661, 0.000506273415713784)\n",
      "The Pearson correlation between the result and team1_EFP is : (0.18226434224833715, 3.155615924596292e-09)\n",
      "The Pearson correlation between the result and team1_ftpct is : (0.051766829984364854, 0.09504898807096973)\n",
      "The Pearson correlation between the result and team1_oe is : (0.27760372199897143, 7.110883334474256e-20)\n",
      "The Pearson correlation between the result and team1_opparate is : (-0.06978354490761075, 0.024349231238323818)\n",
      "The Pearson correlation between the result and team1_oppblockpct is : (-0.04258639626859614, 0.16975165548547047)\n",
      "The Pearson correlation between the result and team1_oppf3grate is : (0.0696113186655727, 0.02470380543598477)\n",
      "The Pearson correlation between the result and team1_oppfg2pct is : (-0.13924699529252227, 6.503369667212018e-06)\n",
      "The Pearson correlation between the result and team1_oppfg3pct is : (-0.12701654930413359, 3.95895342449251e-05)\n",
      "The Pearson correlation between the result and team1_OEFP is : (-0.16538700317542113, 8.018044981389848e-08)\n",
      "The Pearson correlation between the result and team1_EFP-OEFG is : (0.25008488397814355, 2.6197468730564636e-16)\n",
      "The Pearson correlation between the result and team1_oppftpct is : (0.004943519671620982, 0.8734248857752929)\n",
      "The Pearson correlation between the result and team1_oppstlrate is : (-0.15917938866659537, 2.4350614008007237e-07)\n",
      "The Pearson correlation between the result and team1_pt_career_overall_losses is : (0.07960437255019434, 0.010187761878341096)\n",
      "The Pearson correlation between the result and team1_pt_career_school_losses is : (0.041862012233378355, 0.1771356193301571)\n",
      "The Pearson correlation between the result and team1_pt_career_school_wins is : (0.20749714624408586, 1.3755018134860954e-11)\n",
      "The Pearson correlation between the result and team1_pt_coach_season_losses is : (-0.23641572522845294, 1.088269248524286e-14)\n",
      "The Pearson correlation between the result and team1_pt_coach_season_wins is : (0.26392571347987703, 4.7509706593965606e-18)\n",
      "The Pearson correlation between the result and team1_pt_overall_ff is : (0.17066424579178624, 3.01641572662686e-08)\n",
      "The Pearson correlation between the result and team1_pt_overall_ncaa is : (0.2259534130762455, 1.6173625457968302e-13)\n",
      "The Pearson correlation between the result and team1_pt_overall_s16 is : (0.22474050033963103, 2.1927806338066383e-13)\n",
      "The Pearson correlation between the result and team1_pt_school_ff is : (0.15300186145595596, 7.055401500476743e-07)\n",
      "The Pearson correlation between the result and team1_pt_school_ncaa is : (0.1996687879429139, 8.02984323102792e-11)\n",
      "The Pearson correlation between the result and team1_pt_school_s16 is : (0.19926464216146994, 8.778724539271583e-11)\n",
      "The Pearson correlation between the result and team1_pt_team_season_losses is : (-0.23990148731690153, 4.29988816222819e-15)\n",
      "The Pearson correlation between the result and team1_pt_team_season_wins is : (0.26401900398042494, 4.620494488803345e-18)\n",
      "The Pearson correlation between the result and team1_rpi_rating is : (0.26466779768818094, 3.805817260534955e-18)\n",
      "The Pearson correlation between the result and team1_seed.1 is : (-0.4094979737767851, 2.331994237741774e-43)\n",
      "The Pearson correlation between the result and team1_stlrate is : (0.003583372434707478, 0.9080668126197207)\n",
      "The Pearson correlation between the result and team1_TPP-DTPP is : (-0.09970348427628403, 0.001277217437456385)\n",
      "The Pearson correlation between the result and team1_tempo is : (0.03260642291169375, 0.293237238211842)\n",
      "The Pearson correlation between the result and team2_adjde is : (0.2864209222217405, 4.165495809346482e-21)\n",
      "The Pearson correlation between the result and team2_adjoe is : (-0.24963380687492914, 2.973470665851964e-16)\n",
      "The Pearson correlation between the result and team2_adjtempo is : (-0.0622337950971779, 0.044698795159658515)\n",
      "The Pearson correlation between the result and team2_ap_final is : (0.3924816700589646, 1.135497587533764e-39)\n",
      "The Pearson correlation between the result and team2_ap_preseason is : (0.2895216606095208, 1.4987950198607254e-21)\n",
      "The Pearson correlation between the result and team2_ap_rank_difference is : (-0.11930249609936969, 0.00011413065655871349)\n",
      "The Pearson correlation between the result and team2_arate is : (-0.015873435475513616, 0.608954871789885)\n",
      "The Pearson correlation between the result and team2_blockpct is : (-0.15951917413252267, 2.293904667723355e-07)\n",
      "The Pearson correlation between the result and team2_coaches_before_final is : (0.39306344302603935, 8.563160945545722e-40)\n",
      "The Pearson correlation between the result and team2_coaches_preseason is : (0.29135806343394466, 8.132276184072923e-22)\n",
      "The Pearson correlation between the result and team2_coaches_difference is : (-0.11862534745483172, 0.0001248784097847118)\n",
      "The Pearson correlation between the result and team2_rank_difference is : (-0.12304094930345909, 6.885106299871095e-05)\n",
      "The Pearson correlation between the result and team2_de is : (0.2053788704706878, 2.2327469778798762e-11)\n",
      "The Pearson correlation between the result and team2_f3grate is : (0.09622270217179162, 0.0018831675989658939)\n",
      "The Pearson correlation between the result and team2_fg2pct is : (-0.089214590639282, 0.003967242954843949)\n",
      "The Pearson correlation between the result and team2_fg3pct is : (-0.05581574786537714, 0.07184346961343858)\n",
      "The Pearson correlation between the result and team2_EFG is : (-0.08844906293876169, 0.004290990582826316)\n",
      "The Pearson correlation between the result and team2_ftpct is : (-0.029305471772873803, 0.344866085565797)\n",
      "The Pearson correlation between the result and team2_oe is : (-0.20331627891907142, 3.560545533768297e-11)\n",
      "The Pearson correlation between the result and team2_opparate is : (0.039584515626984444, 0.20190547142879545)\n",
      "The Pearson correlation between the result and team2_oppblockpct is : (0.06929888026182282, 0.025358453164908007)\n",
      "The Pearson correlation between the result and team2_oppf3grate is : (0.12195862010584742, 7.981839444124659e-05)\n",
      "The Pearson correlation between the result and team2_oppfg2pct is : (0.18028923214775222, 4.684048693544254e-09)\n",
      "The Pearson correlation between the result and team2_oppfg3pct is : (0.09102407242515607, 0.0032882240535010193)\n",
      "The Pearson correlation between the result and team2_oppftpct is : (0.08261035796873638, 0.007659056687254695)\n",
      "The Pearson correlation between the result and team2_OEFG is : (0.1932152227105105, 3.2610365855672225e-10)\n",
      "The Pearson correlation between the result and team2_EFG-OEFG is : (-0.2011954506451964, 5.7238619494109546e-11)\n",
      "The Pearson correlation between the result and team2_oppstlrate is : (0.0032798001764110735, 0.9158248524240146)\n",
      "The Pearson correlation between the result and team2_TPP-OTPP is : (0.10413977484628018, 0.0007650544261835487)\n",
      "The Pearson correlation between the result and team2_pt_career_overall_losses is : (-0.10655738320075961, 0.0005738073029554108)\n",
      "The Pearson correlation between the result and team2_pt_career_school_losses is : (-0.02858985000047701, 0.35677992296342853)\n",
      "The Pearson correlation between the result and team2_pt_career_school_wins is : (-0.20049395800103176, 6.689408789067416e-11)\n",
      "The Pearson correlation between the result and team2_pt_coach_season_losses is : (0.228410946892049, 8.682280475199101e-14)\n",
      "The Pearson correlation between the result and team2_pt_coach_season_wins is : (-0.21507719026591135, 2.328254295395719e-12)\n",
      "The Pearson correlation between the result and team2_pt_overall_ff is : (-0.19693589863809055, 1.462108424780189e-10)\n",
      "The Pearson correlation between the result and team2_pt_overall_ncaa is : (-0.2445177204221034, 1.2287559010537275e-15)\n",
      "The Pearson correlation between the result and team2_pt_overall_s16 is : (-0.24156187561117287, 2.7485119132486048e-15)\n",
      "The Pearson correlation between the result and team2_pt_school_ff is : (-0.160409265146409, 1.9605550026228355e-07)\n",
      "The Pearson correlation between the result and team2_pt_school_ncaa is : (-0.18527878021803176, 1.712431600643369e-09)\n",
      "The Pearson correlation between the result and team2_pt_school_s16 is : (-0.19197565565954924, 4.2451793724785034e-10)\n",
      "The Pearson correlation between the result and team2_pt_team_season_losses is : (0.22379715909035036, 2.775090322365976e-13)\n",
      "The Pearson correlation between the result and team2_pt_team_season_wins is : (-0.21831465754019458, 1.0681361497485197e-12)\n",
      "The Pearson correlation between the result and team2_rpi_rating is : (-0.15153138419835993, 9.033460561423643e-07)\n",
      "The Pearson correlation between the result and team2_score is : (-0.4847118064812407, 1.9269657552694724e-62)\n",
      "The Pearson correlation between the result and team2_seed.1 is : (0.38303308399538444, 1.0267445864426696e-37)\n",
      "The Pearson correlation between the result and team2_stlrate is : (-0.11489951168591302, 0.00020317563700621312)\n",
      "The Pearson correlation between the result and team2_tempo is : (-0.04163040911194958, 0.17954614462440974)\n"
     ]
    }
   ],
   "source": [
    "import scipy\n",
    "for cat in categories:\n",
    "    print ('The Pearson correlation between the result and', cat, \n",
    "           'is :',scipy.stats.pearsonr(rawData[cat], result))"
   ]
  },
  {
   "cell_type": "code",
   "execution_count": 22,
   "metadata": {},
   "outputs": [],
   "source": [
    "for cat in categories:\n",
    "    if scipy.stats.pearsonr(rawData[cat], result)[1]>0.05:\n",
    "        del data_pearson[cat]\n",
    "    elif scipy.stats.pearsonr(rawData[cat], result)[0]<0.3:\n",
    "        del data_pearson[cat]"
   ]
  },
  {
   "cell_type": "code",
   "execution_count": 23,
   "metadata": {},
   "outputs": [],
   "source": [
    "data_pearson.head()\n",
    "data_pearson.to_csv(\"pearson.csv\",index=True,sep=',')"
   ]
  },
  {
   "cell_type": "markdown",
   "metadata": {},
   "source": [
    "\n",
    "# Split data into traning(70%) and testing(30%) "
   ]
  },
  {
   "cell_type": "code",
   "execution_count": 24,
   "metadata": {},
   "outputs": [
    {
     "name": "stderr",
     "output_type": "stream",
     "text": [
      "C:\\Users\\HoddieMelo\\Anaconda3\\lib\\site-packages\\sklearn\\cross_validation.py:41: DeprecationWarning: This module was deprecated in version 0.18 in favor of the model_selection module into which all the refactored classes and functions are moved. Also note that the interface of the new CV iterators are different from that of this module. This module will be removed in 0.20.\n",
      "  \"This module will be removed in 0.20.\", DeprecationWarning)\n"
     ]
    }
   ],
   "source": [
    "from sklearn.cross_validation import train_test_split\n",
    "import warnings\n",
    "warnings.filterwarnings(module='sklearn*', action='ignore', category=DeprecationWarning)"
   ]
  },
  {
   "cell_type": "code",
   "execution_count": 25,
   "metadata": {},
   "outputs": [],
   "source": [
    "def split(X,y):\n",
    "    X_train, X_test, y_train, y_test = train_test_split(X, y, test_size=0.30, stratify = y)\n",
    "    return X_train, X_test, y_train, y_test"
   ]
  },
  {
   "cell_type": "code",
   "execution_count": 26,
   "metadata": {},
   "outputs": [],
   "source": [
    "data_pearson_X_train, data_pearson_X_test, data_pearson_y_train, data_pearson_y_test = split(data_pearson,result)"
   ]
  },
  {
   "cell_type": "code",
   "execution_count": 27,
   "metadata": {},
   "outputs": [],
   "source": [
    "data_etc_X_train, data_etc_X_test, data_etc_y_train, data_etc_y_test = split(data_etc,result)"
   ]
  },
  {
   "cell_type": "code",
   "execution_count": 28,
   "metadata": {},
   "outputs": [],
   "source": [
    "data_lsvc_X_train, data_lsvc_X_test, data_lsvc_y_train, data_lsvc_y_test = split(data_lsvc,result)"
   ]
  },
  {
   "cell_type": "markdown",
   "metadata": {},
   "source": [
    "# Define measurement function"
   ]
  },
  {
   "cell_type": "code",
   "execution_count": 29,
   "metadata": {},
   "outputs": [],
   "source": [
    "def result(predicted_label,true_label):\n",
    "    true_idx=(predicted_label==true_label)\n",
    "    false_idx=np.logical_not(true_idx)\n",
    "    positive_idx=(true_label>0)\n",
    "    negitive_idx=np.logical_not(positive_idx)\n",
    "    true_positive=np.sum(np.logical_and(true_idx,positive_idx))\n",
    "    true_negitive=np.sum(np.logical_and(true_idx,negitive_idx))\n",
    "    false_positive=np.sum(negitive_idx)-true_negitive\n",
    "    false_negitive=np.sum(positive_idx)-true_positive\n",
    "    result = []\n",
    "    sensitivity = true_positive/(true_positive+false_negitive)\n",
    "    specificity = true_negitive/(true_negitive+false_positive)\n",
    "    truePositiveRate = true_positive/(true_positive+false_positive)\n",
    "    trueNegitiveRate = true_negitive/(false_negitive+true_negitive)\n",
    "    accuracy = (true_positive+true_negitive)/(true_positive+true_negitive+false_positive+false_negitive)\n",
    "    performance_evaluation = []\n",
    "    performance_evaluation.append(sensitivity)\n",
    "    performance_evaluation.append(specificity)\n",
    "    performance_evaluation.append(truePositiveRate)\n",
    "    performance_evaluation.append(trueNegitiveRate)\n",
    "    performance_evaluation.append(accuracy)\n",
    "    \n",
    "    return performance_evaluation"
   ]
  },
  {
   "cell_type": "code",
   "execution_count": 30,
   "metadata": {},
   "outputs": [],
   "source": [
    "import numpy as np\n",
    "import math\n",
    "from sklearn.metrics import mean_squared_error\n",
    "from sklearn.metrics import log_loss"
   ]
  },
  {
   "cell_type": "markdown",
   "metadata": {},
   "source": [
    "# Model 1: KNN clssifier"
   ]
  },
  {
   "cell_type": "code",
   "execution_count": 31,
   "metadata": {},
   "outputs": [],
   "source": [
    "def KNeighborsClassifier(X_train, X_test, y_train, y_test):\n",
    "    from sklearn.neighbors import KNeighborsClassifier\n",
    "    neigh = KNeighborsClassifier(n_neighbors=5)\n",
    "    neigh.fit(X_train, y_train)\n",
    "    neigh.predict(X_train)\n",
    "    neigh.predict(X_test)\n",
    "    print(\"training score:\",neigh.score(X_train,y_train))\n",
    "    print(\"testing score:\",neigh.score(X_test,y_test))\n",
    "    print(\"result:\",result(neigh.predict(X_train),y_train))\n",
    "    print(\"MSE:\",mean_squared_error(y_test, neigh.predict(X_test)))\n",
    "    print('training log_loss:',log_loss(y_train,neigh.predict_proba(X_train)))\n",
    "    print('testing log_loss:',log_loss(y_test,neigh.predict_proba(X_test)))\n",
    "    mse = mean_squared_error(y_test, neigh.predict(X_test))\n",
    "    \n",
    "    return mse\n"
   ]
  },
  {
   "cell_type": "code",
   "execution_count": 32,
   "metadata": {},
   "outputs": [
    {
     "name": "stdout",
     "output_type": "stream",
     "text": [
      "training score: 0.7664835164835165\n",
      "testing score: 0.6773162939297125\n",
      "result: [0.7684210526315789, 0.764367816091954, 0.7807486631016043, 0.751412429378531, 0.7664835164835165]\n",
      "MSE: 0.3226837060702875\n",
      "training log_loss: 0.42117197862495837\n",
      "testing log_loss: 1.301292873866446\n"
     ]
    }
   ],
   "source": [
    "KNN_Pearson_mse = KNeighborsClassifier(data_pearson_X_train, data_pearson_X_test, data_pearson_y_train, data_pearson_y_test)"
   ]
  },
  {
   "cell_type": "code",
   "execution_count": 33,
   "metadata": {},
   "outputs": [
    {
     "name": "stdout",
     "output_type": "stream",
     "text": [
      "training score: 0.8269230769230769\n",
      "testing score: 0.7252396166134185\n",
      "result: [0.8078947368421052, 0.8477011494252874, 0.8527777777777777, 0.8016304347826086, 0.8269230769230769]\n",
      "MSE: 0.2747603833865815\n",
      "training log_loss: 0.36251873157115627\n",
      "testing log_loss: 1.6627078604437124\n"
     ]
    }
   ],
   "source": [
    "KNN_etc_mse = KNeighborsClassifier(data_etc_X_train, data_etc_X_test, data_etc_y_train, data_etc_y_test)"
   ]
  },
  {
   "cell_type": "code",
   "execution_count": 34,
   "metadata": {},
   "outputs": [
    {
     "name": "stdout",
     "output_type": "stream",
     "text": [
      "training score: 0.7431318681318682\n",
      "testing score: 0.5878594249201278\n",
      "result: [0.7763157894736842, 0.7068965517241379, 0.743073047858942, 0.743202416918429, 0.7431318681318682]\n",
      "MSE: 0.41214057507987223\n",
      "training log_loss: 0.5051867039631579\n",
      "testing log_loss: 1.9588237631237575\n"
     ]
    }
   ],
   "source": [
    "KNN_lsvc_mse = KNeighborsClassifier(data_lsvc_X_train, data_lsvc_X_test, data_lsvc_y_train, data_lsvc_y_test)"
   ]
  },
  {
   "cell_type": "markdown",
   "metadata": {},
   "source": [
    "# Model 2: Radom Forest"
   ]
  },
  {
   "cell_type": "code",
   "execution_count": 35,
   "metadata": {},
   "outputs": [],
   "source": [
    "def RandomForestClassifier(X_train, X_test, y_train, y_test):\n",
    "    from sklearn.ensemble import RandomForestClassifier\n",
    "    rf = RandomForestClassifier(bootstrap=True, class_weight=None, criterion='gini',\n",
    "            max_depth=4, max_features='auto', max_leaf_nodes=None,\n",
    "            min_impurity_decrease=0,\n",
    "            min_samples_leaf=5, min_samples_split=2,\n",
    "            min_weight_fraction_leaf=0.0, n_estimators=3000, n_jobs=-1,\n",
    "            oob_score=True, random_state=0, verbose=0, warm_start=False)\n",
    "    rf.fit(X_train, y_train)\n",
    "    rf.predict(X_train)\n",
    "    rf.predict(X_test)\n",
    "    print(\"training score:\",rf.score(X_train,y_train))\n",
    "    print(\"testing score:\",rf.score(X_test,y_test))\n",
    "    print(\"result:\",result(rf.predict(X_train),y_train))\n",
    "    print(\"MSE:\",mean_squared_error(y_test, rf.predict(X_test)))\n",
    "    print('training log_loss:',log_loss(y_train,rf.predict_proba(X_train)))\n",
    "    print('testing log_loss:',log_loss(y_test,rf.predict_proba(X_test)))\n",
    "    mse = mean_squared_error(y_test, rf.predict(X_test))\n",
    "    \n",
    "    return mse\n"
   ]
  },
  {
   "cell_type": "code",
   "execution_count": 36,
   "metadata": {},
   "outputs": [
    {
     "name": "stdout",
     "output_type": "stream",
     "text": [
      "The result of Pearson Data\n",
      "training score: 0.8255494505494505\n",
      "testing score: 0.7795527156549521\n",
      "result: [0.8263157894736842, 0.8247126436781609, 0.8373333333333334, 0.8130311614730878, 0.8255494505494505]\n",
      "MSE: 0.22044728434504793\n",
      "training log_loss: 0.4081105661952143\n",
      "testing log_loss: 0.47537097285262586\n",
      "The result of ect Data\n",
      "training score: 0.8585164835164835\n",
      "testing score: 0.8083067092651757\n",
      "result: [0.8789473684210526, 0.8362068965517241, 0.8542199488491049, 0.8635014836795252, 0.8585164835164835]\n",
      "MSE: 0.19169329073482427\n",
      "training log_loss: 0.37385757533951064\n",
      "testing log_loss: 0.4547379928963228\n",
      "The result of lsvc Data\n",
      "training score: 0.853021978021978\n",
      "testing score: 0.7827476038338658\n",
      "result: [0.8868421052631579, 0.8160919540229885, 0.8403990024937655, 0.8685015290519877, 0.853021978021978]\n",
      "MSE: 0.21725239616613418\n",
      "training log_loss: 0.40782846366208525\n",
      "testing log_loss: 0.472799757196289\n"
     ]
    }
   ],
   "source": [
    "print(\"The result of Pearson Data\")\n",
    "RF_Pearson_mse = RandomForestClassifier(data_pearson_X_train, data_pearson_X_test, data_pearson_y_train, data_pearson_y_test)\n",
    "print(\"The result of ect Data\")\n",
    "RF_etc_mse = RandomForestClassifier(data_etc_X_train, data_etc_X_test, data_etc_y_train, data_etc_y_test)\n",
    "print(\"The result of lsvc Data\")\n",
    "RF_lsvc_mse = RandomForestClassifier(data_lsvc_X_train, data_lsvc_X_test, data_lsvc_y_train, data_lsvc_y_test)"
   ]
  },
  {
   "cell_type": "markdown",
   "metadata": {},
   "source": [
    "# Mode3: Neural_network Multi-layer Perception"
   ]
  },
  {
   "cell_type": "code",
   "execution_count": 37,
   "metadata": {},
   "outputs": [],
   "source": [
    "def MLPClassifier(X_train, X_test, y_train, y_test):\n",
    "    from sklearn.neural_network import MLPClassifier\n",
    "    nn=MLPClassifier(hidden_layer_sizes=(100,10), activation='logistic', solver='sgd',learning_rate='invscaling'\n",
    "                 ,random_state=20,max_iter=5000)\n",
    "    nn.fit(X_train, y_train)\n",
    "    nn.predict(X_train)\n",
    "    nn.predict(X_test)\n",
    "    print(\"training score:\",nn.score(X_train,y_train))\n",
    "    print(\"testing score:\",nn.score(X_test,y_test))\n",
    "    print(\"result:\",result(nn.predict(X_train),y_train))\n",
    "    print(\"MSE:\",mean_squared_error(y_test, nn.predict(X_test)))\n",
    "    print('training log_loss:',log_loss(y_train,nn.predict_proba(X_train)))\n",
    "    print('testing log_loss:',log_loss(y_test,nn.predict_proba(X_test)))\n",
    "    \n",
    "    mse = mean_squared_error(y_test, nn.predict(X_test))\n",
    "    \n",
    "    return mse"
   ]
  },
  {
   "cell_type": "code",
   "execution_count": 38,
   "metadata": {},
   "outputs": [
    {
     "name": "stdout",
     "output_type": "stream",
     "text": [
      "The result of Pearson Data\n",
      "training score: 0.521978021978022\n",
      "testing score: 0.5207667731629393\n",
      "result: [1.0, 0.0, 0.521978021978022, nan, 0.521978021978022]\n",
      "MSE: 0.4792332268370607\n",
      "training log_loss: 0.687656609744579\n",
      "testing log_loss: 0.6847528795272418\n",
      "The result of ect Data\n"
     ]
    },
    {
     "name": "stderr",
     "output_type": "stream",
     "text": [
      "C:\\Users\\HoddieMelo\\Anaconda3\\lib\\site-packages\\ipykernel_launcher.py:14: RuntimeWarning: invalid value encountered in longlong_scalars\n",
      "  \n"
     ]
    },
    {
     "name": "stdout",
     "output_type": "stream",
     "text": [
      "training score: 0.521978021978022\n",
      "testing score: 0.5207667731629393\n",
      "result: [1.0, 0.0, 0.521978021978022, nan, 0.521978021978022]\n",
      "MSE: 0.4792332268370607\n",
      "training log_loss: 0.7659441568913107\n",
      "testing log_loss: 0.7658827777754338\n",
      "The result of lsvc Data\n",
      "training score: 0.521978021978022\n",
      "testing score: 0.5207667731629393\n",
      "result: [1.0, 0.0, 0.521978021978022, nan, 0.521978021978022]\n",
      "MSE: 0.4792332268370607\n",
      "training log_loss: 0.7568802874976481\n",
      "testing log_loss: 0.7585014206947011\n"
     ]
    }
   ],
   "source": [
    "#MLPClassifier(data_pearson_X_train, data_pearson_X_test, data_pearson_y_train, data_pearson_y_test)\n",
    "print(\"The result of Pearson Data\")\n",
    "nn_Pearson_mse = MLPClassifier(data_pearson_X_train, data_pearson_X_test, data_pearson_y_train, data_pearson_y_test)\n",
    "print(\"The result of ect Data\")\n",
    "nn_etc_mse = MLPClassifier(data_etc_X_train, data_etc_X_test, data_etc_y_train, data_etc_y_test)\n",
    "print(\"The result of lsvc Data\")\n",
    "nn_lsvc_mse = MLPClassifier(data_lsvc_X_train, data_lsvc_X_test, data_lsvc_y_train, data_lsvc_y_test)"
   ]
  },
  {
   "cell_type": "markdown",
   "metadata": {},
   "source": [
    "# Model 4: Logistic Regression"
   ]
  },
  {
   "cell_type": "code",
   "execution_count": 39,
   "metadata": {},
   "outputs": [],
   "source": [
    "def LogisticRegression_1(X_train, X_test, y_train, y_test):\n",
    "    from sklearn.linear_model import LogisticRegression\n",
    "    logit = LogisticRegression()\n",
    "    logit.fit(X_train,y_train)\n",
    "    logit.predict(X_train)\n",
    "    logit.predict(X_test)\n",
    "    print(\"training score:\",logit.score(X_train,y_train))\n",
    "    print(\"testing score:\",logit.score(X_test,y_test))\n",
    "    print(\"result:\",result(logit.predict(X_train),y_train))\n",
    "    print(\"MSE:\",mean_squared_error(y_test, logit.predict(X_test)))\n",
    "    print('training log_loss:',log_loss(y_train,logit.predict_proba(X_train)))\n",
    "    print('testing log_loss:',log_loss(y_test,logit.predict_proba(X_test)))\n",
    "    \n",
    "    mse = mean_squared_error(y_test, logit.predict(X_test))\n",
    "    \n",
    "    return mse"
   ]
  },
  {
   "cell_type": "code",
   "execution_count": 40,
   "metadata": {},
   "outputs": [
    {
     "name": "stdout",
     "output_type": "stream",
     "text": [
      "The result of Pearson Data\n",
      "training score: 0.8035714285714286\n",
      "testing score: 0.7891373801916933\n",
      "result: [0.8184210526315789, 0.7873563218390804, 0.8077922077922078, 0.7988338192419825, 0.8035714285714286]\n",
      "MSE: 0.2108626198083067\n",
      "training log_loss: 0.42215049796913406\n",
      "testing log_loss: 0.44884722058904974\n",
      "The result of ect Data\n",
      "training score: 0.8681318681318682\n",
      "testing score: 0.8306709265175719\n",
      "result: [0.8789473684210526, 0.8563218390804598, 0.8697916666666666, 0.8662790697674418, 0.8681318681318682]\n",
      "MSE: 0.16932907348242812\n",
      "training log_loss: 0.3201450208233226\n",
      "testing log_loss: 0.40821604247027615\n",
      "The result of lsvc Data\n",
      "training score: 0.8818681318681318\n",
      "testing score: 0.8945686900958466\n",
      "result: [0.8842105263157894, 0.8793103448275862, 0.8888888888888888, 0.8742857142857143, 0.8818681318681318]\n",
      "MSE: 0.10543130990415335\n",
      "training log_loss: 0.29506115373942116\n",
      "testing log_loss: 0.2933194001213286\n"
     ]
    }
   ],
   "source": [
    "#LogisticRegression(data_pearson_X_train, data_pearson_X_test, data_pearson_y_train, data_pearson_y_test)\n",
    "print(\"The result of Pearson Data\")\n",
    "logit_Pearson_mse = LogisticRegression_1(data_pearson_X_train, data_pearson_X_test, data_pearson_y_train, data_pearson_y_test)\n",
    "print(\"The result of ect Data\")\n",
    "logit_etc_mse = LogisticRegression_1(data_etc_X_train, data_etc_X_test, data_etc_y_train, data_etc_y_test)\n",
    "print(\"The result of lsvc Data\")\n",
    "logit_lsvc_mse = LogisticRegression_1(data_lsvc_X_train, data_lsvc_X_test, data_lsvc_y_train, data_lsvc_y_test)"
   ]
  },
  {
   "cell_type": "markdown",
   "metadata": {},
   "source": [
    "# Model 5: SVM C-Support Vector Classification"
   ]
  },
  {
   "cell_type": "code",
   "execution_count": 41,
   "metadata": {},
   "outputs": [],
   "source": [
    "def SVC(X_train, X_test, y_train, y_test):\n",
    "    from sklearn.svm import SVC\n",
    "    svc = SVC(C=5, kernel='rbf', degree=3, gamma='auto', coef0=0.0, shrinking=True, probability=True, tol=0.0001, cache_size=200, class_weight=None, verbose=False, max_iter=-1, decision_function_shape='ovr', random_state=None)\n",
    "    svc.fit(X_train, y_train)\n",
    "    svc.predict(X_train)\n",
    "    svc.predict(X_test)\n",
    "    print(\"training score:\",svc.score(X_train,y_train))\n",
    "    print(\"testing score:\",svc.score(X_test,y_test))\n",
    "    print(\"result:\",result(svc.predict(X_train),y_train))\n",
    "    print(\"MSE:\",mean_squared_error(y_test, svc.predict(X_test)))\n",
    "    print('training log_loss:',log_loss(y_train,svc.predict_proba(X_train)))\n",
    "    print('testing log_loss:',log_loss(y_test,svc.predict_proba(X_test)))\n",
    "    mse = mean_squared_error(y_test, svc.predict(X_test))\n",
    "    \n",
    "    return mse"
   ]
  },
  {
   "cell_type": "code",
   "execution_count": 42,
   "metadata": {},
   "outputs": [
    {
     "name": "stdout",
     "output_type": "stream",
     "text": [
      "The result of Pearson Data\n",
      "training score: 1.0\n",
      "testing score: 0.5207667731629393\n",
      "result: [1.0, 1.0, 1.0, 1.0, 1.0]\n",
      "MSE: 0.4792332268370607\n",
      "training log_loss: 0.04125171915517444\n",
      "testing log_loss: 0.6915329958596148\n",
      "The result of ect Data\n",
      "training score: 1.0\n",
      "testing score: 0.5207667731629393\n",
      "result: [1.0, 1.0, 1.0, 1.0, 1.0]\n",
      "MSE: 0.4792332268370607\n",
      "training log_loss: 0.3709927774230758\n",
      "testing log_loss: 0.6921690744080993\n",
      "The result of lsvc Data\n",
      "training score: 1.0\n",
      "testing score: 0.5207667731629393\n",
      "result: [1.0, 1.0, 1.0, 1.0, 1.0]\n",
      "MSE: 0.4792332268370607\n",
      "training log_loss: 11.491971737475744\n",
      "testing log_loss: 0.6922881611927871\n"
     ]
    }
   ],
   "source": [
    "#SVC(data_pearson_X_train, data_pearson_X_test, data_pearson_y_train, data_pearson_y_test)\n",
    "print(\"The result of Pearson Data\")\n",
    "svc_Pearson_mse = SVC(data_pearson_X_train, data_pearson_X_test, data_pearson_y_train, data_pearson_y_test)\n",
    "print(\"The result of ect Data\")\n",
    "svc_etc_mse = SVC(data_etc_X_train, data_etc_X_test, data_etc_y_train, data_etc_y_test)\n",
    "print(\"The result of lsvc Data\")\n",
    "svc_lsvc_mse = SVC(data_lsvc_X_train, data_lsvc_X_test, data_lsvc_y_train, data_lsvc_y_test)"
   ]
  },
  {
   "cell_type": "markdown",
   "metadata": {},
   "source": [
    "# Model 6: Naive Bayes"
   ]
  },
  {
   "cell_type": "code",
   "execution_count": 43,
   "metadata": {},
   "outputs": [],
   "source": [
    "def GaussianNB(X_train, X_test, y_train, y_test):\n",
    "    from sklearn.naive_bayes import GaussianNB\n",
    "    gnb = GaussianNB()\n",
    "    gnb.fit(X_train, y_train)\n",
    "    gnb.predict(X_train)\n",
    "    gnb.predict(X_test)\n",
    "    print(\"training score:\",gnb.score(X_train,y_train))\n",
    "    print(\"testing score:\",gnb.score(X_test,y_test))\n",
    "    print(\"result:\",result(gnb.predict(X_train),y_train))\n",
    "    print(\"MSE:\",mean_squared_error(y_test, gnb.predict(X_test)))\n",
    "    print('training log_loss:',log_loss(y_train,gnb.predict_proba(X_train)))\n",
    "    print('testing log_loss:',log_loss(y_test,gnb.predict_proba(X_test)))\n",
    "    mse = mean_squared_error(y_test, gnb.predict(X_test))\n",
    "    \n",
    "    return mse\n"
   ]
  },
  {
   "cell_type": "code",
   "execution_count": 44,
   "metadata": {},
   "outputs": [
    {
     "name": "stdout",
     "output_type": "stream",
     "text": [
      "The result of Pearson Data\n",
      "training score: 0.7321428571428571\n",
      "testing score: 0.7699680511182109\n",
      "result: [0.7210526315789474, 0.7442528735632183, 0.7548209366391184, 0.7095890410958904, 0.7321428571428571]\n",
      "MSE: 0.23003194888178913\n",
      "training log_loss: 1.879704943553505\n",
      "testing log_loss: 1.8194184331370438\n",
      "The result of ect Data\n",
      "training score: 0.7623626373626373\n",
      "testing score: 0.7539936102236422\n",
      "result: [0.7473684210526316, 0.7787356321839081, 0.7867036011080333, 0.7384196185286104, 0.7623626373626373]\n",
      "MSE: 0.24600638977635783\n",
      "training log_loss: 2.2313790765622254\n",
      "testing log_loss: 2.244029887003495\n",
      "The result of lsvc Data\n",
      "training score: 0.7527472527472527\n",
      "testing score: 0.7476038338658147\n",
      "result: [0.75, 0.7557471264367817, 0.7702702702702703, 0.7346368715083799, 0.7527472527472527]\n",
      "MSE: 0.2523961661341853\n",
      "training log_loss: 1.353727830308674\n",
      "testing log_loss: 1.4358573926381981\n"
     ]
    }
   ],
   "source": [
    "#GaussianNB(data_pearson_X_train, data_pearson_X_test, data_pearson_y_train, data_pearson_y_test)\n",
    "print(\"The result of Pearson Data\")\n",
    "gnb_Pearson_mse = GaussianNB(data_pearson_X_train, data_pearson_X_test, data_pearson_y_train, data_pearson_y_test)\n",
    "print(\"The result of ect Data\")\n",
    "gnb_etc_mse = GaussianNB(data_etc_X_train, data_etc_X_test, data_etc_y_train, data_etc_y_test)\n",
    "print(\"The result of lsvc Data\")\n",
    "gnb_lsvc_mse = GaussianNB(data_lsvc_X_train, data_lsvc_X_test, data_lsvc_y_train, data_lsvc_y_test)"
   ]
  },
  {
   "cell_type": "markdown",
   "metadata": {},
   "source": [
    "# Model 7: Decision Tree"
   ]
  },
  {
   "cell_type": "code",
   "execution_count": 45,
   "metadata": {},
   "outputs": [],
   "source": [
    "def tree(X_train, X_test, y_train, y_test):\n",
    "    from sklearn import tree\n",
    "    dt = tree.DecisionTreeClassifier(criterion='gini', splitter='best', max_depth=3, min_samples_split=2, min_samples_leaf=1, min_weight_fraction_leaf=0.0, max_features=None)\n",
    "    dt = dt.fit(X_train, y_train)\n",
    "    dt.predict(X_train)\n",
    "    dt.predict(X_test)\n",
    "    print(\"training score:\",dt.score(X_train,y_train))\n",
    "    print(\"testing score:\",dt.score(X_test,y_test))\n",
    "    print(\"result:\",result(dt.predict(X_train),y_train))\n",
    "    print(\"MSE:\",mean_squared_error(y_test, dt.predict(X_test)))\n",
    "    print('training log_loss:',log_loss(y_train,dt.predict_proba(X_train)))\n",
    "    print('testing log_loss:',log_loss(y_test,dt.predict_proba(X_test)))\n",
    "    mse = mean_squared_error(y_test, dt.predict(X_test))\n",
    "    \n",
    "    return mse"
   ]
  },
  {
   "cell_type": "code",
   "execution_count": 46,
   "metadata": {},
   "outputs": [
    {
     "name": "stdout",
     "output_type": "stream",
     "text": [
      "The result of Pearson Data\n",
      "training score: 0.7967032967032966\n",
      "testing score: 0.7476038338658147\n",
      "result: [0.7710526315789473, 0.8247126436781609, 0.827683615819209, 0.767379679144385, 0.7967032967032966]\n",
      "MSE: 0.2523961661341853\n",
      "training log_loss: 0.44970705688636986\n",
      "testing log_loss: 0.5398952089678061\n",
      "The result of ect Data\n",
      "training score: 0.8379120879120879\n",
      "testing score: 0.744408945686901\n",
      "result: [0.8578947368421053, 0.8160919540229885, 0.8358974358974359, 0.8402366863905325, 0.8379120879120879]\n",
      "MSE: 0.25559105431309903\n",
      "training log_loss: 0.41648400750235975\n",
      "testing log_loss: 1.010928762766073\n",
      "The result of lsvc Data\n",
      "training score: 0.8021978021978022\n",
      "testing score: 0.731629392971246\n",
      "result: [0.7763157894736842, 0.8304597701149425, 0.8333333333333334, 0.7727272727272727, 0.8021978021978022]\n",
      "MSE: 0.268370607028754\n",
      "training log_loss: 0.4481331498484023\n",
      "testing log_loss: 0.8671221142963248\n"
     ]
    }
   ],
   "source": [
    "print(\"The result of Pearson Data\")\n",
    "dt_pearson_mse = tree(data_pearson_X_train, data_pearson_X_test, data_pearson_y_train, data_pearson_y_test)\n",
    "print(\"The result of ect Data\")\n",
    "dt_etc_mse = tree(data_etc_X_train, data_etc_X_test, data_etc_y_train, data_etc_y_test)\n",
    "print(\"The result of lsvc Data\")\n",
    "dt_lsvc_mse = tree(data_lsvc_X_train, data_lsvc_X_test, data_lsvc_y_train, data_lsvc_y_test)"
   ]
  },
  {
   "cell_type": "markdown",
   "metadata": {},
   "source": [
    "# Model 8: Gradient Boosting"
   ]
  },
  {
   "cell_type": "code",
   "execution_count": 47,
   "metadata": {},
   "outputs": [],
   "source": [
    "def GradientBoostingClassifier(X_train, X_test, y_train, y_test):\n",
    "    from sklearn.ensemble import GradientBoostingClassifier\n",
    "    gbm = GradientBoostingClassifier(n_estimators=44, min_samples_split=10, min_samples_leaf=5, learning_rate=1.0,max_depth=1, random_state=5)\n",
    "    gbm = gbm.fit(X_train, y_train)\n",
    "    gbm.predict_proba(X_train)\n",
    "    gbm.predict_proba(X_test)\n",
    "    print(\"training score:\",gbm.score(X_train,y_train))\n",
    "    print(\"testing score:\",gbm.score(X_test,y_test))\n",
    "    print(\"result:\",result(gbm.predict(X_train),y_train))\n",
    "    print(\"MSE:\",mean_squared_error(y_test, gbm.predict(X_test)))\n",
    "    print('training log_loss:',log_loss(y_train,gbm.predict_proba(X_train)))\n",
    "    print('testing log_loss:',log_loss(y_test,gbm.predict_proba(X_test)))\n",
    "    mse = mean_squared_error(y_test, gbm.predict(X_test))\n",
    "    \n",
    "    return mse"
   ]
  },
  {
   "cell_type": "code",
   "execution_count": 48,
   "metadata": {
    "scrolled": true
   },
   "outputs": [
    {
     "name": "stdout",
     "output_type": "stream",
     "text": [
      "training score: 0.8763736263736264\n",
      "testing score: 0.7731629392971247\n",
      "result: [0.8947368421052632, 0.8563218390804598, 0.8717948717948718, 0.8816568047337278, 0.8763736263736264]\n",
      "MSE: 0.2268370607028754\n",
      "training log_loss: 0.31603304877584854\n",
      "testing log_loss: 0.5024900516728643\n",
      "The result of ect Data\n",
      "training score: 0.9134615384615384\n",
      "testing score: 0.8146964856230032\n",
      "result: [0.9157894736842105, 0.9109195402298851, 0.9182058047493403, 0.9083094555873925, 0.9134615384615384]\n",
      "MSE: 0.1853035143769968\n",
      "training log_loss: 0.21861404242961702\n",
      "testing log_loss: 0.462015319969002\n",
      "The result of lsvc Data\n",
      "training score: 0.9134615384615384\n",
      "testing score: 0.8115015974440895\n",
      "result: [0.9236842105263158, 0.9022988505747126, 0.9116883116883117, 0.9154518950437318, 0.9134615384615384]\n",
      "MSE: 0.18849840255591055\n",
      "training log_loss: 0.23580410714902864\n",
      "testing log_loss: 0.4199448755955126\n"
     ]
    }
   ],
   "source": [
    "#GradientBoostingClassifier(data_pearson_X_train, data_pearson_X_test, data_pearson_y_train, data_pearson_y_test)\n",
    "gbm_pearson_mse = GradientBoostingClassifier(data_pearson_X_train, data_pearson_X_test, data_pearson_y_train, data_pearson_y_test)\n",
    "print(\"The result of ect Data\")\n",
    "gbm_etc_mse = GradientBoostingClassifier(data_etc_X_train, data_etc_X_test, data_etc_y_train, data_etc_y_test)\n",
    "print(\"The result of lsvc Data\")\n",
    "gbm_lsvc_mse = GradientBoostingClassifier(data_lsvc_X_train, data_lsvc_X_test, data_lsvc_y_train, data_lsvc_y_test)"
   ]
  },
  {
   "cell_type": "code",
   "execution_count": 49,
   "metadata": {},
   "outputs": [],
   "source": [
    "\n",
    "def plot_roc(fpr, tpr, roc_auc):\n",
    "    \"\"\"Plots the ROC curve for the win probability model along with\n",
    "    the AUC.\n",
    "    \"\"\"\n",
    "    import matplotlib.pyplot as plt\n",
    "    fig, ax = plt.subplots()\n",
    "    ax.set(title='Receiver Operating Characteristic',\n",
    "           xlim=[0, 1], ylim=[0, 1], xlabel='False Positive Rate',\n",
    "           ylabel='True Positive Rate')\n",
    "    ax.plot(fpr, tpr, 'b', label='AUC = %0.2f' % roc_auc)\n",
    "    ax.plot([0, 1], [0, 1], 'k--')\n",
    "    ax.legend(loc='lower right')"
   ]
  },
  {
   "cell_type": "markdown",
   "metadata": {},
   "source": [
    "# Model Combination: Ensemble Model and Model Evaluation"
   ]
  },
  {
   "cell_type": "code",
   "execution_count": 50,
   "metadata": {},
   "outputs": [],
   "source": [
    "rawData = pd.read_csv('data.csv')"
   ]
  },
  {
   "cell_type": "code",
   "execution_count": 51,
   "metadata": {},
   "outputs": [],
   "source": [
    "def VotingClassifier(X_train, X_test, y_train, y_test,logit_weight,rf_weight,gbm_weight,dt_weight,data,rawData):\n",
    "    from sklearn.ensemble import VotingClassifier\n",
    "    from sklearn.model_selection import GridSearchCV\n",
    "    from sklearn.linear_model import LogisticRegression\n",
    "    from sklearn.naive_bayes import GaussianNB\n",
    "    from sklearn.ensemble import RandomForestClassifier\n",
    "    from sklearn.ensemble import GradientBoostingClassifier\n",
    "    from sklearn import tree\n",
    "    from sklearn.metrics import log_loss\n",
    "    clf1 = LogisticRegression()\n",
    "    clf2 = RandomForestClassifier(bootstrap=True, class_weight=None, criterion='gini',\n",
    "            max_depth=4, max_features='auto', max_leaf_nodes=None,\n",
    "            min_impurity_decrease=0,\n",
    "            min_samples_leaf=5, min_samples_split=2,\n",
    "            min_weight_fraction_leaf=0.0, n_estimators=3000, n_jobs=-1,\n",
    "            oob_score=True, random_state=0, verbose=0, warm_start=False)\n",
    "\n",
    "    clf3 = GradientBoostingClassifier(n_estimators=1000, learning_rate=1.0,max_depth=1, random_state=0)\n",
    "    clf4 = tree.DecisionTreeClassifier(criterion='gini', splitter='best', max_depth=3, min_samples_split=2, min_samples_leaf=1, min_weight_fraction_leaf=0.0, max_features=None)\n",
    "    eclf = VotingClassifier(estimators=[('Logit', clf1), ('RF', clf2), ('GB', clf3),('dr',clf4)], voting='soft', weights=[logit_weight,rf_weight,gbm_weight,dt_weight])\n",
    "\n",
    "    params = {'RF__max_depth': [3, 5],'GB__n_estimators':[1000,2000]}\n",
    "\n",
    "    grid = GridSearchCV(estimator=eclf, param_grid=params, cv=5)\n",
    "    grid = grid.fit(X_train,y_train)\n",
    "    warnings.filterwarnings(module='sklearn*', action='ignore', category=DeprecationWarning)\n",
    "    print(\"training score:\",grid.score(X_train,y_train))\n",
    "    print(\"testing score:\",grid.score(X_test,y_test))\n",
    "    print(\"result:\",result(grid.predict(X_train),y_train))\n",
    "    print(\"MSE:\",mean_squared_error(y_test, grid.predict(X_test)))\n",
    "    print('training log_loss:',log_loss(y_train,grid.predict_proba(X_train)))\n",
    "    print('testing log_loss:',log_loss(y_test,grid.predict_proba(X_test)))\n",
    "    predict_proba=grid.predict_proba(data)\n",
    "    import numpy as np  \n",
    "    predict_proba = np.delete(predict_proba, -2, axis=1)\n",
    "    from sklearn.metrics import (auc, classification_report, roc_auc_score, accuracy_score,\n",
    "                             f1_score, log_loss, roc_curve, confusion_matrix, precision_score, recall_score)\n",
    "    \n",
    "    %matplotlib inline\n",
    "    import matplotlib.pyplot as plt\n",
    "    plt.style.use('ggplot')\n",
    "    fpr, tpr, thresholds = roc_curve(rawData['result'].values, predict_proba)\n",
    "    roc_auc = auc(fpr, tpr) \n",
    "    plot_roc(fpr, tpr, roc_auc)"
   ]
  },
  {
   "cell_type": "code",
   "execution_count": 52,
   "metadata": {
    "scrolled": true
   },
   "outputs": [
    {
     "name": "stdout",
     "output_type": "stream",
     "text": [
      "The result of Pearson Data\n",
      "training score: 0.9464285714285714\n",
      "testing score: 0.7891373801916933\n",
      "result: [0.9473684210526315, 0.9454022988505747, 0.9498680738786279, 0.9426934097421203, 0.9464285714285714]\n",
      "MSE: 0.2108626198083067\n",
      "training log_loss: 0.26317994419184676\n",
      "testing log_loss: 0.4607473394702372\n"
     ]
    },
    {
     "data": {
      "image/png": "[encoded data removed]",
      "text/plain": [
       "<Figure size 432x288 with 1 Axes>"
      ]
     },
     "metadata": {},
     "output_type": "display_data"
    }
   ],
   "source": [
    "total_pearson_mse = gbm_pearson_mse + dt_pearson_mse + logit_Pearson_mse + RF_Pearson_mse\n",
    "gbm_pearson_weight = 1-gbm_pearson_mse/total_pearson_mse\n",
    "dt_pearson_weight = 1-dt_pearson_mse/total_pearson_mse\n",
    "logit_Pearson_weight = 1-logit_Pearson_mse/total_pearson_mse\n",
    "RF_Pearson_weight = 1-RF_Pearson_mse/total_pearson_mse\n",
    "print(\"The result of Pearson Data\")\n",
    "VotingClassifier(data_pearson_X_train, data_pearson_X_test, data_pearson_y_train, data_pearson_y_test,gbm_pearson_weight,dt_pearson_weight,logit_Pearson_weight,RF_Pearson_weight,data_pearson,rawData)"
   ]
  },
  {
   "cell_type": "code",
   "execution_count": 53,
   "metadata": {
    "scrolled": true
   },
   "outputs": [
    {
     "name": "stdout",
     "output_type": "stream",
     "text": [
      "The result of Etc Data\n",
      "training score: 0.9285714285714286\n",
      "testing score: 0.8306709265175719\n",
      "result: [0.9210526315789473, 0.9367816091954023, 0.9408602150537635, 0.9157303370786517, 0.9285714285714286]\n",
      "MSE: 0.16932907348242812\n",
      "training log_loss: 0.23572868567762975\n",
      "testing log_loss: 0.43079667958344847\n"
     ]
    },
    {
     "data": {
      "image/png": "[encoded data removed]",
      "text/plain": [
       "<Figure size 432x288 with 1 Axes>"
      ]
     },
     "metadata": {},
     "output_type": "display_data"
    }
   ],
   "source": [
    "total_etc_mse = gbm_etc_mse + dt_etc_mse + logit_etc_mse + RF_etc_mse\n",
    "gbm_etc_weight = 1-gbm_etc_mse/total_etc_mse\n",
    "dt_etc_weight = 1-dt_etc_mse/total_etc_mse\n",
    "logit_etc_weight = 1-logit_etc_mse/total_etc_mse\n",
    "RF_etc_weight = 1-RF_etc_mse/total_etc_mse\n",
    "print(\"The result of Etc Data\")\n",
    "VotingClassifier(data_etc_X_train, data_etc_X_test, data_etc_y_train, data_etc_y_test,gbm_etc_weight,dt_etc_weight,logit_etc_weight,RF_etc_weight,data_etc,rawData)"
   ]
  },
  {
   "cell_type": "code",
   "execution_count": 54,
   "metadata": {},
   "outputs": [
    {
     "name": "stdout",
     "output_type": "stream",
     "text": [
      "The result of Lsvc Data\n",
      "training score: 0.9697802197802198\n",
      "testing score: 0.8434504792332268\n",
      "result: [0.9710526315789474, 0.9683908045977011, 0.9710526315789474, 0.9683908045977011, 0.9697802197802198]\n",
      "MSE: 0.15654952076677317\n",
      "training log_loss: 0.20910005932369036\n",
      "testing log_loss: 0.3677775158389423\n"
     ]
    },
    {
     "data": {
      "image/png": "[encoded data removed]",
      "text/plain": [
       "<Figure size 432x288 with 1 Axes>"
      ]
     },
     "metadata": {},
     "output_type": "display_data"
    }
   ],
   "source": [
    "total_lsvc_mse = gbm_lsvc_mse + dt_lsvc_mse + logit_lsvc_mse + RF_lsvc_mse\n",
    "gbm_lsvc_weight = 1-gbm_lsvc_mse/total_lsvc_mse\n",
    "dt_lsvc_weight = 1-dt_lsvc_mse/total_lsvc_mse\n",
    "logit_lsvc_weight = 1-logit_lsvc_mse/total_lsvc_mse\n",
    "RF_lsvc_weight = 1-RF_lsvc_mse/total_lsvc_mse\n",
    "print(\"The result of Lsvc Data\")\n",
    "VotingClassifier(data_lsvc_X_train, data_lsvc_X_test, data_lsvc_y_train, data_lsvc_y_test,gbm_lsvc_weight,dt_lsvc_weight,logit_lsvc_weight,RF_lsvc_weight,data_lsvc,rawData)\n"
   ]
  },
  {
   "cell_type": "markdown",
   "metadata": {},
   "source": [
    "# Under this circumstance data selected by LinearSVC has the best preformance\n",
    "Also,the emsemble model has the best performance compared with any other models"
   ]
  },
  {
   "cell_type": "code",
   "execution_count": null,
   "metadata": {},
   "outputs": [],
   "source": []
  }
 ],
 "metadata": {
  "kernelspec": {
   "display_name": "Python 3",
   "language": "python",
   "name": "python3"
  },
  "language_info": {
   "codemirror_mode": {
    "name": "ipython",
    "version": 3
   },
   "file_extension": ".py",
   "mimetype": "text/x-python",
   "name": "python",
   "nbconvert_exporter": "python",
   "pygments_lexer": "ipython3",
   "version": "3.6.5"
  }
 },
 "nbformat": 4,
 "nbformat_minor": 2
}
